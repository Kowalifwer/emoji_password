{
 "cells": [
  {
   "cell_type": "code",
   "execution_count": 6,
   "id": "764c73a8",
   "metadata": {},
   "outputs": [
    {
     "name": "stdout",
     "output_type": "stream",
     "text": [
      "0E7Z4crR\n",
      "9Ajj0aHc\n",
      "B0dEm4FD\n",
      "ZybrH8MD\n"
     ]
    }
   ],
   "source": [
    "import pandas as pd\n",
    "import json\n",
    "import warnings\n",
    "from scipy.stats import shapiro\n",
    "import statistics\n",
    "from scipy.stats import shapiro, mannwhitneyu, kruskal, chisquare\n",
    "from scipy.stats import shapiro\n",
    "import matplotlib.pyplot as plt\n",
    "warnings.filterwarnings('ignore')\n",
    "\n",
    "with open('finalStatistics.json', 'r') as f:\n",
    "    data = json.load(f)\n",
    "\n",
    "data = data[\"groups\"]\n",
    "df = pd.DataFrame.from_dict(data)"
   ]
  },
  {
   "cell_type": "code",
   "execution_count": 7,
   "id": "b11dcd85",
   "metadata": {},
   "outputs": [],
   "source": [
    "# Json -> pandas\n",
    "scores = pd.DataFrame(columns = [\"levenshteins\", \"strength\", \"group\"])\n",
    "i = 0\n",
    "for group in df.columns:\n",
    "    i += 1\n",
    "    group_name = str(i)\n",
    "    total_users = df[group][\"totalUsersSubmitted\"]\n",
    "    levenshteins = df[group][\"levenshteins\"]\n",
    "    scores_list = df[group][\"scores\"]\n",
    "    for j in range(len(levenshteins)):\n",
    "        row = pd.DataFrame({\"levenshteins\": levenshteins[j], \"strength\": scores_list[j], \"group\": group_name}, index=[total_users])\n",
    "        scores = scores.append(row, ignore_index=True)\n",
    "scores = scores.sort_values(by=[\"group\", \"levenshteins\"])"
   ]
  },
  {
   "cell_type": "code",
   "execution_count": 2,
   "id": "aa6996a0",
   "metadata": {},
   "outputs": [
    {
     "ename": "KeyError",
     "evalue": "'name'",
     "output_type": "error",
     "traceback": [
      "\u001b[1;31m---------------------------------------------------------------------------\u001b[0m",
      "\u001b[1;31mKeyError\u001b[0m                                  Traceback (most recent call last)",
      "File \u001b[1;32mC:\\ProgramData\\Anaconda3\\lib\\site-packages\\pandas\\core\\indexes\\base.py:3803\u001b[0m, in \u001b[0;36mIndex.get_loc\u001b[1;34m(self, key, method, tolerance)\u001b[0m\n\u001b[0;32m   3802\u001b[0m \u001b[38;5;28;01mtry\u001b[39;00m:\n\u001b[1;32m-> 3803\u001b[0m     \u001b[38;5;28;01mreturn\u001b[39;00m \u001b[38;5;28;43mself\u001b[39;49m\u001b[38;5;241;43m.\u001b[39;49m\u001b[43m_engine\u001b[49m\u001b[38;5;241;43m.\u001b[39;49m\u001b[43mget_loc\u001b[49m\u001b[43m(\u001b[49m\u001b[43mcasted_key\u001b[49m\u001b[43m)\u001b[49m\n\u001b[0;32m   3804\u001b[0m \u001b[38;5;28;01mexcept\u001b[39;00m \u001b[38;5;167;01mKeyError\u001b[39;00m \u001b[38;5;28;01mas\u001b[39;00m err:\n",
      "File \u001b[1;32mC:\\ProgramData\\Anaconda3\\lib\\site-packages\\pandas\\_libs\\index.pyx:138\u001b[0m, in \u001b[0;36mpandas._libs.index.IndexEngine.get_loc\u001b[1;34m()\u001b[0m\n",
      "File \u001b[1;32mC:\\ProgramData\\Anaconda3\\lib\\site-packages\\pandas\\_libs\\index.pyx:165\u001b[0m, in \u001b[0;36mpandas._libs.index.IndexEngine.get_loc\u001b[1;34m()\u001b[0m\n",
      "File \u001b[1;32mpandas\\_libs\\hashtable_class_helper.pxi:5745\u001b[0m, in \u001b[0;36mpandas._libs.hashtable.PyObjectHashTable.get_item\u001b[1;34m()\u001b[0m\n",
      "File \u001b[1;32mpandas\\_libs\\hashtable_class_helper.pxi:5753\u001b[0m, in \u001b[0;36mpandas._libs.hashtable.PyObjectHashTable.get_item\u001b[1;34m()\u001b[0m\n",
      "\u001b[1;31mKeyError\u001b[0m: 'name'",
      "\nThe above exception was the direct cause of the following exception:\n",
      "\u001b[1;31mKeyError\u001b[0m                                  Traceback (most recent call last)",
      "Input \u001b[1;32mIn [2]\u001b[0m, in \u001b[0;36m<cell line: 3>\u001b[1;34m()\u001b[0m\n\u001b[0;32m      2\u001b[0m scores \u001b[38;5;241m=\u001b[39m pd\u001b[38;5;241m.\u001b[39mDataFrame(columns \u001b[38;5;241m=\u001b[39m [\u001b[38;5;124m\"\u001b[39m\u001b[38;5;124mlevenshteins\u001b[39m\u001b[38;5;124m\"\u001b[39m, \u001b[38;5;124m\"\u001b[39m\u001b[38;5;124mstrength\u001b[39m\u001b[38;5;124m\"\u001b[39m, \u001b[38;5;124m\"\u001b[39m\u001b[38;5;124mgroup\u001b[39m\u001b[38;5;124m\"\u001b[39m])\n\u001b[0;32m      3\u001b[0m \u001b[38;5;28;01mfor\u001b[39;00m i \u001b[38;5;129;01min\u001b[39;00m \u001b[38;5;28mrange\u001b[39m(\u001b[38;5;241m1\u001b[39m, \u001b[38;5;241m5\u001b[39m):\n\u001b[1;32m----> 4\u001b[0m     group_name \u001b[38;5;241m=\u001b[39m \u001b[43mdf\u001b[49m\u001b[38;5;241;43m.\u001b[39;49m\u001b[43miloc\u001b[49m\u001b[43m[\u001b[49m\u001b[43mi\u001b[49m\u001b[43m]\u001b[49m\u001b[43m[\u001b[49m\u001b[38;5;124;43m\"\u001b[39;49m\u001b[38;5;124;43mname\u001b[39;49m\u001b[38;5;124;43m\"\u001b[39;49m\u001b[43m]\u001b[49m\n\u001b[0;32m      5\u001b[0m     total_users \u001b[38;5;241m=\u001b[39m df\u001b[38;5;241m.\u001b[39miloc[i][\u001b[38;5;124m\"\u001b[39m\u001b[38;5;124mtotalUsersSubmitted\u001b[39m\u001b[38;5;124m\"\u001b[39m]\n\u001b[0;32m      6\u001b[0m     levenshteins \u001b[38;5;241m=\u001b[39m df\u001b[38;5;241m.\u001b[39miloc[i][\u001b[38;5;124m\"\u001b[39m\u001b[38;5;124mlevenshteins\u001b[39m\u001b[38;5;124m\"\u001b[39m]\n",
      "File \u001b[1;32mC:\\ProgramData\\Anaconda3\\lib\\site-packages\\pandas\\core\\series.py:981\u001b[0m, in \u001b[0;36mSeries.__getitem__\u001b[1;34m(self, key)\u001b[0m\n\u001b[0;32m    978\u001b[0m     \u001b[38;5;28;01mreturn\u001b[39;00m \u001b[38;5;28mself\u001b[39m\u001b[38;5;241m.\u001b[39m_values[key]\n\u001b[0;32m    980\u001b[0m \u001b[38;5;28;01melif\u001b[39;00m key_is_scalar:\n\u001b[1;32m--> 981\u001b[0m     \u001b[38;5;28;01mreturn\u001b[39;00m \u001b[38;5;28;43mself\u001b[39;49m\u001b[38;5;241;43m.\u001b[39;49m\u001b[43m_get_value\u001b[49m\u001b[43m(\u001b[49m\u001b[43mkey\u001b[49m\u001b[43m)\u001b[49m\n\u001b[0;32m    983\u001b[0m \u001b[38;5;28;01mif\u001b[39;00m is_hashable(key):\n\u001b[0;32m    984\u001b[0m     \u001b[38;5;66;03m# Otherwise index.get_value will raise InvalidIndexError\u001b[39;00m\n\u001b[0;32m    985\u001b[0m     \u001b[38;5;28;01mtry\u001b[39;00m:\n\u001b[0;32m    986\u001b[0m         \u001b[38;5;66;03m# For labels that don't resolve as scalars like tuples and frozensets\u001b[39;00m\n",
      "File \u001b[1;32mC:\\ProgramData\\Anaconda3\\lib\\site-packages\\pandas\\core\\series.py:1089\u001b[0m, in \u001b[0;36mSeries._get_value\u001b[1;34m(self, label, takeable)\u001b[0m\n\u001b[0;32m   1086\u001b[0m     \u001b[38;5;28;01mreturn\u001b[39;00m \u001b[38;5;28mself\u001b[39m\u001b[38;5;241m.\u001b[39m_values[label]\n\u001b[0;32m   1088\u001b[0m \u001b[38;5;66;03m# Similar to Index.get_value, but we do not fall back to positional\u001b[39;00m\n\u001b[1;32m-> 1089\u001b[0m loc \u001b[38;5;241m=\u001b[39m \u001b[38;5;28;43mself\u001b[39;49m\u001b[38;5;241;43m.\u001b[39;49m\u001b[43mindex\u001b[49m\u001b[38;5;241;43m.\u001b[39;49m\u001b[43mget_loc\u001b[49m\u001b[43m(\u001b[49m\u001b[43mlabel\u001b[49m\u001b[43m)\u001b[49m\n\u001b[0;32m   1090\u001b[0m \u001b[38;5;28;01mreturn\u001b[39;00m \u001b[38;5;28mself\u001b[39m\u001b[38;5;241m.\u001b[39mindex\u001b[38;5;241m.\u001b[39m_get_values_for_loc(\u001b[38;5;28mself\u001b[39m, loc, label)\n",
      "File \u001b[1;32mC:\\ProgramData\\Anaconda3\\lib\\site-packages\\pandas\\core\\indexes\\base.py:3805\u001b[0m, in \u001b[0;36mIndex.get_loc\u001b[1;34m(self, key, method, tolerance)\u001b[0m\n\u001b[0;32m   3803\u001b[0m     \u001b[38;5;28;01mreturn\u001b[39;00m \u001b[38;5;28mself\u001b[39m\u001b[38;5;241m.\u001b[39m_engine\u001b[38;5;241m.\u001b[39mget_loc(casted_key)\n\u001b[0;32m   3804\u001b[0m \u001b[38;5;28;01mexcept\u001b[39;00m \u001b[38;5;167;01mKeyError\u001b[39;00m \u001b[38;5;28;01mas\u001b[39;00m err:\n\u001b[1;32m-> 3805\u001b[0m     \u001b[38;5;28;01mraise\u001b[39;00m \u001b[38;5;167;01mKeyError\u001b[39;00m(key) \u001b[38;5;28;01mfrom\u001b[39;00m \u001b[38;5;21;01merr\u001b[39;00m\n\u001b[0;32m   3806\u001b[0m \u001b[38;5;28;01mexcept\u001b[39;00m \u001b[38;5;167;01mTypeError\u001b[39;00m:\n\u001b[0;32m   3807\u001b[0m     \u001b[38;5;66;03m# If we have a listlike key, _check_indexing_error will raise\u001b[39;00m\n\u001b[0;32m   3808\u001b[0m     \u001b[38;5;66;03m#  InvalidIndexError. Otherwise we fall through and re-raise\u001b[39;00m\n\u001b[0;32m   3809\u001b[0m     \u001b[38;5;66;03m#  the TypeError.\u001b[39;00m\n\u001b[0;32m   3810\u001b[0m     \u001b[38;5;28mself\u001b[39m\u001b[38;5;241m.\u001b[39m_check_indexing_error(key)\n",
      "\u001b[1;31mKeyError\u001b[0m: 'name'"
     ]
    }
   ],
   "source": [
    "# OLD delete if runs for u\n",
    "# # Json -> pandas\n",
    "# scores = pd.DataFrame(columns = [\"levenshteins\", \"strength\", \"group\"])\n",
    "# for i in range(1, 5):\n",
    "#     group_name = df.iloc[i][\"name\"]\n",
    "#     total_users = df.iloc[i][\"totalUsersSubmitted\"]\n",
    "#     levenshteins = df.iloc[i][\"levenshteins\"]\n",
    "#     scores_list = df.iloc[i][\"scores\"]\n",
    "#     for j in range(len(levenshteins)):\n",
    "#         row = pd.DataFrame({\"levenshteins\": levenshteins[j], \"strength\": scores_list[j], \"group\": group_name}, index=[total_users])\n",
    "#         scores = scores.append(row, ignore_index=True)\n",
    "# scores = scores.sort_values(by=[\"group\", \"levenshteins\"])"
   ]
  },
  {
   "cell_type": "code",
   "execution_count": 9,
   "id": "54899152",
   "metadata": {},
   "outputs": [
    {
     "name": "stdout",
     "output_type": "stream",
     "text": [
      "    levenshteins strength group    mode\n",
      "2              0       83     1   Emoji\n",
      "3              0      100     1   Emoji\n",
      "4              0      100     1   Emoji\n",
      "5              0      100     1   Emoji\n",
      "0              2       88     1   Emoji\n",
      "7              3       88     1   Emoji\n",
      "8              0       79     2   Emoji\n",
      "9              0       70     2   Emoji\n",
      "12             0       65     2   Emoji\n",
      "13             0       67     2   Emoji\n",
      "14             0       76     2   Emoji\n",
      "10             1       60     2   Emoji\n",
      "11             1       45     2   Emoji\n",
      "15             0       94     3  Normal\n",
      "18             0       83     3  Normal\n",
      "20             0       88     3  Normal\n",
      "16             1       85     3  Normal\n",
      "17             2       86     3  Normal\n",
      "21             4       86     3  Normal\n",
      "19             5       90     3  Normal\n",
      "22             0       51     4  Normal\n",
      "24             0       72     4  Normal\n",
      "26             0       45     4  Normal\n",
      "27             0       80     4  Normal\n",
      "23             1       63     4  Normal\n",
      "25             1       56     4  Normal\n"
     ]
    }
   ],
   "source": [
    "# Clean up\n",
    "scores.loc[:15, 'mode'] = 'Emoji'\n",
    "scores.loc[15:, 'mode'] = 'Normal'\n",
    "scores = scores.drop([1,6])\n",
    "scores['levenshteins'] = pd.to_numeric(scores['levenshteins'], errors='coerce')\n",
    "\n",
    "print(scores)"
   ]
  },
  {
   "cell_type": "code",
   "execution_count": 10,
   "id": "80143a84",
   "metadata": {},
   "outputs": [
    {
     "name": "stdout",
     "output_type": "stream",
     "text": [
      "1.0769230769230769\n",
      "0.5384615384615384\n"
     ]
    }
   ],
   "source": [
    "# Get mean and sd\n",
    "mean_normal = scores[scores['mode'] == 'Normal']['levenshteins'].mean()\n",
    "mean_emoji =scores[scores['mode'] == 'Emoji']['levenshteins'].mean()\n",
    "\n",
    "print(mean_normal)\n",
    "print(mean_emoji)"
   ]
  },
  {
   "cell_type": "code",
   "execution_count": 11,
   "id": "a921b02a",
   "metadata": {},
   "outputs": [
    {
     "name": "stdout",
     "output_type": "stream",
     "text": [
      "Shapiro-Wilk test for emoji levenshteins: stat=0.6416609287261963, p=0.00015356925723608583\n",
      "Shapiro-Wilk test for normal levenshteins: stat=0.7075220346450806, p=0.0006605564849451184\n"
     ]
    }
   ],
   "source": [
    "# Check normal distributioin\n",
    "\n",
    "\n",
    "emoji_levenshteins = scores[scores['mode'] == 'Emoji']['levenshteins'].values\n",
    "normal_levenshteins = scores[scores['mode'] == 'Normal']['levenshteins'].values\n",
    "\n",
    "# perform Shapiro-Wilk test for normality\n",
    "emoji_stat, emoji_p = shapiro(emoji_levenshteins)\n",
    "normal_stat, normal_p = shapiro(normal_levenshteins)\n",
    "\n",
    "# If more than 0.05 then likely bell\n",
    "print(f\"Shapiro-Wilk test for emoji levenshteins: stat={emoji_stat}, p={emoji_p}\")\n",
    "print(f\"Shapiro-Wilk test for normal levenshteins: stat={normal_stat}, p={normal_p}\")"
   ]
  },
  {
   "cell_type": "code",
   "execution_count": 12,
   "id": "2fb31098",
   "metadata": {},
   "outputs": [
    {
     "data": {
      "image/png": "[encoded data removed]",
      "text/plain": [
       "<Figure size 576x360 with 1 Axes>"
      ]
     },
     "metadata": {
      "needs_background": "light"
     },
     "output_type": "display_data"
    }
   ],
   "source": [
    "\n",
    "\n",
    "# Select the levenshtein distance values for emoji mode and normal mode\n",
    "emoji_levenshteins = scores.loc[scores['mode'] == 'Emoji', 'levenshteins']\n",
    "normal_levenshteins = scores.loc[scores['mode'] == 'Normal', 'levenshteins']\n",
    "\n",
    "# Plot histograms\n",
    "plt.subplots(figsize = (8,5))\n",
    "plt.hist(normal_levenshteins, bins=4, alpha=0.7, label='Normal')\n",
    "plt.hist(emoji_levenshteins, bins=4, alpha=0.7, label='Emoji')\n",
    "\n",
    "plt.legend(loc='upper right', fontsize = 12)\n",
    "plt.xlabel('Levenshtein distance', fontsize = 15)\n",
    "plt.ylabel('# of occurrences', fontsize = 15)\n",
    "plt.show()"
   ]
  },
  {
   "cell_type": "code",
   "execution_count": 13,
   "id": "49333ed7",
   "metadata": {},
   "outputs": [
    {
     "name": "stdout",
     "output_type": "stream",
     "text": [
      "0.8076923076923077\n",
      "1.3570329625836146\n"
     ]
    }
   ],
   "source": [
    "\n",
    "print(scores[\"levenshteins\"].mean())\n",
    "print((statistics.stdev(scores[\"levenshteins\"]))) #"
   ]
  },
  {
   "cell_type": "code",
   "execution_count": 21,
   "id": "6049f072",
   "metadata": {},
   "outputs": [
    {
     "name": "stdout",
     "output_type": "stream",
     "text": [
      "Shapiro:\n",
      "Emoji Medium: stat=0.600, p=0.000\n",
      "Emoji Strong: stat=0.702, p=0.007\n",
      "Normal Medium: stat=0.640, p=0.001\n",
      "Normal Strong: stat=0.836, p=0.091\n",
      "Mann-Whitney U test:\n",
      "Emoji: stat=18.000, p=0.662\n",
      "Normal: stat=13.000, p=0.241\n",
      "Emoji vs Normal: stat=70.000, p=0.410\n",
      "Kruskal-Wallis test (all groups): stat=2.708, p=0.439\n",
      "Kruskal-Wallis test (emoji vs normal): stat=0.727, p=0.394\n",
      "Kruskal-Wallis test (medium): stat=0.032, p=0.859\n",
      "Kruskal-Wallis test (high): stat=0.732, p=0.392\n"
     ]
    }
   ],
   "source": [
    "scores['strength'] = 'MEDIUM'\n",
    "scores.loc[scores['group'] == \"1\", 'strength'] = 'STRONG'\n",
    "scores.loc[scores['group'] == \"3\", 'strength'] = 'STRONG'\n",
    "# Split the data by mode and strength\n",
    "emoji_medium= scores[(scores['mode'] == 'Emoji') & (scores['strength'] == 'MEDIUM')]['levenshteins']\n",
    "emoji_strong = scores[(scores['mode'] == 'Emoji') & (scores['strength'] == 'STRONG')]['levenshteins']\n",
    "normal_medium = scores[(scores['mode'] == 'Normal') & (scores['strength'] == 'MEDIUM')]['levenshteins']\n",
    "normal_strong = scores[(scores['mode'] == 'Normal') & (scores['strength'] == 'STRONG')]['levenshteins']\n",
    "\n",
    "# Check if each group is normally distributed using Shapiro-Wilk test\n",
    "stat_emoji_medium, p_emoji_medium = shapiro(emoji_medium)\n",
    "stat_emoji_strong, p_emoji_strong = shapiro(emoji_strong)\n",
    "stat_normal_medium, p_normal_medium = shapiro(normal_medium)\n",
    "stat_normal_strong, p_normal_strong = shapiro(normal_strong)\n",
    "print(\"Shapiro:\")\n",
    "print(f\"Emoji Medium: stat={stat_emoji_medium:.3f}, p={p_emoji_medium:.3f}\")\n",
    "print(f\"Emoji Strong: stat={stat_emoji_strong:.3f}, p={p_emoji_strong:.3f}\")\n",
    "print(f\"Normal Medium: stat={stat_normal_medium:.3f}, p={p_normal_medium:.3f}\")\n",
    "print(f\"Normal Strong: stat={stat_normal_strong:.3f}, p={p_normal_strong:.3f}\")\n",
    "\n",
    "emoji_data = scores[scores['mode'] == 'Emoji']['levenshteins']\n",
    "normal_data = scores[scores['mode'] == 'Normal']['levenshteins']\n",
    "\n",
    "# Compare the groups using Mann-Whitney U test\n",
    "stat_emoji, p_emoji = mannwhitneyu(emoji_medium, emoji_strong)\n",
    "stat_normal, p_normal = mannwhitneyu(normal_medium, normal_strong)\n",
    "stat_bm, p_bm = mannwhitneyu(emoji_data, normal_data)\n",
    "\n",
    "print(f\"Mann-Whitney U test:\")\n",
    "print(f\"Emoji: stat={stat_emoji:.3f}, p={p_emoji:.3f}\")\n",
    "print(f\"Normal: stat={stat_normal:.3f}, p={p_normal:.3f}\")\n",
    "print(f\"Emoji vs Normal: stat={stat_bm:.3f}, p={p_bm:.3f}\")\n",
    "\n",
    "\n",
    "# Compare all groups using Kruskal-Wallis test\n",
    "stat, p = kruskal(emoji_medium, emoji_strong, normal_medium, normal_strong)\n",
    "stat_mode, p_mode = kruskal(emoji_data, normal_data)\n",
    "stat_m, p_m = kruskal(emoji_medium, normal_medium)\n",
    "stat_s, p_s = kruskal(emoji_strong, normal_strong)\n",
    "print(f\"Kruskal-Wallis test (all groups): stat={stat:.3f}, p={p:.3f}\")\n",
    "print(f\"Kruskal-Wallis test (emoji vs normal): stat={stat_mode:.3f}, p={p_mode:.3f}\")\n",
    "print(f\"Kruskal-Wallis test (medium): stat={stat_m:.3f}, p={p_m:.3f}\")\n",
    "print(f\"Kruskal-Wallis test (high): stat={stat_s:.3f}, p={p_s:.3f}\")\n"
   ]
  },
  {
   "cell_type": "code",
   "execution_count": 119,
   "id": "75f8c8e3",
   "metadata": {},
   "outputs": [
    {
     "name": "stdout",
     "output_type": "stream",
     "text": [
      "t-statistic:  -1.0121216546949474\n",
      "p-value:  0.32157563989993776\n"
     ]
    }
   ],
   "source": [
    "# Disregard!\n",
    "# \n",
    "from scipy.stats import ttest_ind\n",
    "\n",
    "# extract the data for the two modes\n",
    "emoji_data = scores[scores['mode'] == 'Emoji']['levenshteins']\n",
    "normal_data = scores[scores['mode'] == 'Normal']['levenshteins']\n",
    "\n",
    "# perform the t-test\n",
    "t_statistic, p_value = ttest_ind(emoji_data, normal_data)\n",
    "\n",
    "# print the results\n",
    "print('t-statistic: ', t_statistic)\n",
    "print('p-value: ', p_value)"
   ]
  }
 ],
 "metadata": {
  "kernelspec": {
   "display_name": "Python 3 (ipykernel)",
   "language": "python",
   "name": "python3"
  },
  "language_info": {
   "codemirror_mode": {
    "name": "ipython",
    "version": 3
   },
   "file_extension": ".py",
   "mimetype": "text/x-python",
   "name": "python",
   "nbconvert_exporter": "python",
   "pygments_lexer": "ipython3",
   "version": "3.9.12"
  }
 },
 "nbformat": 4,
 "nbformat_minor": 5
}
